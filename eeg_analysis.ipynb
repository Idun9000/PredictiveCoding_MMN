{
 "cells": [
  {
   "cell_type": "code",
   "execution_count": 23,
   "metadata": {},
   "outputs": [
    {
     "name": "stdout",
     "output_type": "stream",
     "text": [
      "Requirement already satisfied: mne in /Users/tildeidunsloth/opt/anaconda3/envs/mne/lib/python3.11/site-packages (1.3.1)\n",
      "Requirement already satisfied: numpy>=1.15.4 in /Users/tildeidunsloth/opt/anaconda3/envs/mne/lib/python3.11/site-packages (from mne) (1.24.2)\n",
      "Requirement already satisfied: scipy>=1.1.0 in /Users/tildeidunsloth/opt/anaconda3/envs/mne/lib/python3.11/site-packages (from mne) (1.10.1)\n",
      "Requirement already satisfied: matplotlib in /Users/tildeidunsloth/opt/anaconda3/envs/mne/lib/python3.11/site-packages (from mne) (3.7.0)\n",
      "Requirement already satisfied: tqdm in /Users/tildeidunsloth/opt/anaconda3/envs/mne/lib/python3.11/site-packages (from mne) (4.64.1)\n",
      "Requirement already satisfied: pooch>=1.5 in /Users/tildeidunsloth/opt/anaconda3/envs/mne/lib/python3.11/site-packages (from mne) (1.6.0)\n",
      "Requirement already satisfied: decorator in /Users/tildeidunsloth/opt/anaconda3/envs/mne/lib/python3.11/site-packages (from mne) (5.1.1)\n",
      "Requirement already satisfied: packaging in /Users/tildeidunsloth/opt/anaconda3/envs/mne/lib/python3.11/site-packages (from mne) (23.0)\n",
      "Requirement already satisfied: jinja2 in /Users/tildeidunsloth/opt/anaconda3/envs/mne/lib/python3.11/site-packages (from mne) (3.1.2)\n",
      "Requirement already satisfied: appdirs>=1.3.0 in /Users/tildeidunsloth/opt/anaconda3/envs/mne/lib/python3.11/site-packages (from pooch>=1.5->mne) (1.4.4)\n",
      "Requirement already satisfied: requests>=2.19.0 in /Users/tildeidunsloth/opt/anaconda3/envs/mne/lib/python3.11/site-packages (from pooch>=1.5->mne) (2.28.2)\n",
      "Requirement already satisfied: MarkupSafe>=2.0 in /Users/tildeidunsloth/opt/anaconda3/envs/mne/lib/python3.11/site-packages (from jinja2->mne) (2.1.2)\n",
      "Requirement already satisfied: contourpy>=1.0.1 in /Users/tildeidunsloth/opt/anaconda3/envs/mne/lib/python3.11/site-packages (from matplotlib->mne) (1.0.7)\n",
      "Requirement already satisfied: cycler>=0.10 in /Users/tildeidunsloth/opt/anaconda3/envs/mne/lib/python3.11/site-packages (from matplotlib->mne) (0.11.0)\n",
      "Requirement already satisfied: fonttools>=4.22.0 in /Users/tildeidunsloth/opt/anaconda3/envs/mne/lib/python3.11/site-packages (from matplotlib->mne) (4.38.0)\n",
      "Requirement already satisfied: kiwisolver>=1.0.1 in /Users/tildeidunsloth/opt/anaconda3/envs/mne/lib/python3.11/site-packages (from matplotlib->mne) (1.4.4)\n",
      "Requirement already satisfied: pillow>=6.2.0 in /Users/tildeidunsloth/opt/anaconda3/envs/mne/lib/python3.11/site-packages (from matplotlib->mne) (9.4.0)\n",
      "Requirement already satisfied: pyparsing>=2.3.1 in /Users/tildeidunsloth/opt/anaconda3/envs/mne/lib/python3.11/site-packages (from matplotlib->mne) (3.0.9)\n",
      "Requirement already satisfied: python-dateutil>=2.7 in /Users/tildeidunsloth/opt/anaconda3/envs/mne/lib/python3.11/site-packages (from matplotlib->mne) (2.8.2)\n",
      "Requirement already satisfied: six>=1.5 in /Users/tildeidunsloth/opt/anaconda3/envs/mne/lib/python3.11/site-packages (from python-dateutil>=2.7->matplotlib->mne) (1.16.0)\n",
      "Requirement already satisfied: charset-normalizer<4,>=2 in /Users/tildeidunsloth/opt/anaconda3/envs/mne/lib/python3.11/site-packages (from requests>=2.19.0->pooch>=1.5->mne) (2.1.1)\n",
      "Requirement already satisfied: idna<4,>=2.5 in /Users/tildeidunsloth/opt/anaconda3/envs/mne/lib/python3.11/site-packages (from requests>=2.19.0->pooch>=1.5->mne) (3.4)\n",
      "Requirement already satisfied: urllib3<1.27,>=1.21.1 in /Users/tildeidunsloth/opt/anaconda3/envs/mne/lib/python3.11/site-packages (from requests>=2.19.0->pooch>=1.5->mne) (1.26.14)\n",
      "Requirement already satisfied: certifi>=2017.4.17 in /Users/tildeidunsloth/opt/anaconda3/envs/mne/lib/python3.11/site-packages (from requests>=2.19.0->pooch>=1.5->mne) (2022.12.7)\n",
      "Requirement already satisfied: scikit-learn in /Users/tildeidunsloth/opt/anaconda3/envs/mne/lib/python3.11/site-packages (1.2.2)\n",
      "Requirement already satisfied: numpy>=1.17.3 in /Users/tildeidunsloth/opt/anaconda3/envs/mne/lib/python3.11/site-packages (from scikit-learn) (1.24.2)\n",
      "Requirement already satisfied: scipy>=1.3.2 in /Users/tildeidunsloth/opt/anaconda3/envs/mne/lib/python3.11/site-packages (from scikit-learn) (1.10.1)\n",
      "Requirement already satisfied: joblib>=1.1.1 in /Users/tildeidunsloth/opt/anaconda3/envs/mne/lib/python3.11/site-packages (from scikit-learn) (1.2.0)\n",
      "Requirement already satisfied: threadpoolctl>=2.0.0 in /Users/tildeidunsloth/opt/anaconda3/envs/mne/lib/python3.11/site-packages (from scikit-learn) (3.1.0)\n"
     ]
    }
   ],
   "source": [
    "import os\n",
    "import pip\n",
    "!python -m pip install mne\n",
    "os.system('python -m pip install scikit-learn')\n",
    "import numpy as np\n",
    "import pandas as pd\n",
    "import mne"
   ]
  },
  {
   "attachments": {},
   "cell_type": "markdown",
   "metadata": {},
   "source": [
    "## Reading in and grouping epochs"
   ]
  },
  {
   "cell_type": "code",
   "execution_count": 24,
   "metadata": {},
   "outputs": [
    {
     "name": "stdout",
     "output_type": "stream",
     "text": [
      "Reading /Users/tildeidunsloth/Desktop/Cognitive Neuroscience/Preprocessing/CogNeuro2023/EEG_analysis/epochs-epo.fif ...\n",
      "    Found the data of interest:\n",
      "        t =    -100.00 ...     496.00 ms\n",
      "        0 CTF compensation matrices available\n",
      "Not setting metadata\n",
      "570 matching events found\n",
      "No baseline correction applied\n",
      "0 projection items activated\n"
     ]
    }
   ],
   "source": [
    "# Reading in epochs\n",
    "epochs = mne.read_epochs('epochs-epo.fif')"
   ]
  },
  {
   "cell_type": "code",
   "execution_count": 25,
   "metadata": {},
   "outputs": [],
   "source": [
    "# Characterizing epochs based on events\n",
    "normal_epochs = epochs['Normal']\n",
    "special_epochs = epochs['Special']\n",
    "special_audio = epochs['no_audio']\n",
    "special_visual = epochs['no_visual']\n",
    "special_visual_and_audio = epochs['no_visual_no_audio']"
   ]
  },
  {
   "attachments": {},
   "cell_type": "markdown",
   "metadata": {},
   "source": [
    "## Epoch data for specific channel and time window"
   ]
  },
  {
   "cell_type": "code",
   "execution_count": 26,
   "metadata": {},
   "outputs": [],
   "source": [
    "# Getting epoch data for specific channel and time window (channel = Fz (frontal zentrum), time window = 100-250 ms seconds (choice based on litterature))\n",
    "normal_data_fz = normal_epochs.get_data(picks=['Fz'], tmin=0.1, tmax=0.25)\n",
    "\n",
    "special_audio_data_fz = special_audio.get_data(picks=['Fz'], tmin=0.1, tmax=0.25)\n",
    "\n",
    "special_visual_data_fz = special_visual.get_data(picks=['Fz'], tmin=0.1, tmax=0.25)\n",
    "\n",
    "special_visual_and_audio_data_fz = special_visual_and_audio.get_data(picks=['Fz'], tmin=0.1, tmax=0.25)"
   ]
  },
  {
   "cell_type": "code",
   "execution_count": 27,
   "metadata": {},
   "outputs": [
    {
     "name": "stdout",
     "output_type": "stream",
     "text": [
      "(30, 1, 37)\n"
     ]
    }
   ],
   "source": [
    "# Investigating the dimensions of the data\n",
    "print(special_audio_data_fz.shape)\n",
    "# Means that we have 30 trials, 1 channel and 37 time units per trial"
   ]
  },
  {
   "cell_type": "code",
   "execution_count": 28,
   "metadata": {},
   "outputs": [],
   "source": [
    "# Getting epoch data for specific channel and time window (channel = Oz (Occipital zentrum), time window = 100-250 ms seconds (choice based on litterature))\n",
    "normal_data_oz = normal_epochs.get_data(picks=['Oz'], tmin=0.1, tmax=0.25)\n",
    "\n",
    "special_audio_data_oz = special_audio.get_data(picks=['Oz'], tmin=0.1, tmax=0.25)\n",
    "\n",
    "special_visual_data_oz = special_visual.get_data(picks=['Oz'], tmin=0.1, tmax=0.25)\n",
    "\n",
    "special_visual_and_audio_data_oz = special_visual_and_audio.get_data(picks=['Oz'], tmin=0.1, tmax=0.25)"
   ]
  },
  {
   "attachments": {},
   "cell_type": "markdown",
   "metadata": {},
   "source": [
    "## Saving data to csv"
   ]
  },
  {
   "cell_type": "code",
   "execution_count": 29,
   "metadata": {},
   "outputs": [],
   "source": [
    "# Creating a csv file that includes signal, trial (level_0), channel (level_1) and time (level_2) for channel fz\n",
    "shape=normal_data_fz.shape\n",
    "index=pd.MultiIndex.from_product([range(s)for s in shape])\n",
    "normal_fz=pd.DataFrame({'normal_data_fz':normal_data_fz.flatten()}, index=index).reset_index()\n",
    "normal_fz.to_csv('normal_data_fz.csv', index=False)\n",
    "\n",
    "shape=special_audio_data_fz.shape\n",
    "index=pd.MultiIndex.from_product([range(s)for s in shape])\n",
    "special_audio_fz=pd.DataFrame({'special_audio_data_fz': special_audio_data_fz.flatten()}, index=index).reset_index()\n",
    "special_audio_fz.to_csv('special_audio_data_fz.csv', index=False)\n",
    "\n",
    "shape=special_visual_data_fz.shape\n",
    "index=pd.MultiIndex.from_product([range(s)for s in shape])\n",
    "special_visual_fz=pd.DataFrame({'special_visual_data_fz':special_visual_data_fz.flatten()}, index=index).reset_index()\n",
    "special_visual_fz.to_csv('special_visual_data_fz.csv', index=False)\n",
    "\n",
    "shape=special_visual_and_audio_data_fz.shape\n",
    "index=pd.MultiIndex.from_product([range(s)for s in shape])\n",
    "special_visual_and_audio_fz=pd.DataFrame({'special_visual_and_audio_data_fz':special_visual_and_audio_data_fz.flatten()}, index=index).reset_index()\n",
    "special_visual_and_audio_fz.to_csv('special_visual_and_audio_data_fz.csv', index=False)"
   ]
  },
  {
   "cell_type": "code",
   "execution_count": 30,
   "metadata": {},
   "outputs": [],
   "source": [
    "# Creating a csv file that includes signal, trial (level_0), channel (level_1) and time (level_2) for channel oz\n",
    "shape=normal_data_oz.shape\n",
    "index=pd.MultiIndex.from_product([range(s)for s in shape])\n",
    "normal_oz=pd.DataFrame({'normal_data_oz':normal_data_oz.flatten()}, index=index).reset_index()\n",
    "normal_oz.to_csv('normal_data_oz.csv', index=False)\n",
    "\n",
    "shape=special_audio_data_oz.shape\n",
    "index=pd.MultiIndex.from_product([range(s)for s in shape])\n",
    "special_audio_oz=pd.DataFrame({'special_audio_data_oz': special_audio_data_oz.flatten()}, index=index).reset_index()\n",
    "special_audio_oz.to_csv('special_audio_data_oz.csv', index=False)\n",
    "\n",
    "shape=special_visual_data_oz.shape\n",
    "index=pd.MultiIndex.from_product([range(s)for s in shape])\n",
    "special_visual_oz=pd.DataFrame({'special_visual_data_oz':special_visual_data_oz.flatten()}, index=index).reset_index()\n",
    "special_visual_oz.to_csv('special_visual_data_oz.csv', index=False)\n",
    "\n",
    "shape=special_visual_and_audio_data_oz.shape\n",
    "index=pd.MultiIndex.from_product([range(s)for s in shape])\n",
    "special_visual_and_audio_oz=pd.DataFrame({'special_visual_and_audio_data_oz':special_visual_and_audio_data_oz.flatten()}, index=index).reset_index()\n",
    "special_visual_and_audio_oz.to_csv('special_visual_and_audio_data_oz.csv', index=False)"
   ]
  }
 ],
 "metadata": {
  "kernelspec": {
   "display_name": "mne",
   "language": "python",
   "name": "python3"
  },
  "language_info": {
   "codemirror_mode": {
    "name": "ipython",
    "version": 3
   },
   "file_extension": ".py",
   "mimetype": "text/x-python",
   "name": "python",
   "nbconvert_exporter": "python",
   "pygments_lexer": "ipython3",
   "version": "3.11.0"
  },
  "orig_nbformat": 4
 },
 "nbformat": 4,
 "nbformat_minor": 2
}
